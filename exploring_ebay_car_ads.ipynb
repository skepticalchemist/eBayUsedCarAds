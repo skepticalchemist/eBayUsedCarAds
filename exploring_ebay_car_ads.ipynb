{
 "cells": [
  {
   "cell_type": "markdown",
   "metadata": {},
   "source": [
    "# Probing eBay used car classifieds data\n",
    "\n",
    "## Project overview\n",
    "\n",
    "We'll work with a dataset of used cars from [eBay Kleinanzeigen](https://www.ebay-kleinanzeigen.de/), a classifieds section of the German eBay website, and we will use a reduced portion of the [original dataset](https://www.kaggle.com/orgesleka/used-cars-database/data).\n",
    "\n",
    "## Goal\n",
    "\n",
    "Practice data cleaning and exploration with Pandas.\n",
    "\n",
    "## Tools\n",
    "Python, Pandas, Matplotlib, Jupyter Lab\n",
    "\n",
    "## Getting to know the data\n",
    "\n",
    "The dataset features are described in Table 1.\n",
    "\n",
    "\n",
    "**Table 1.** Dataset features.    \n",
    "\n",
    "|feature              | meaning                                                                  |\n",
    "|---------------------|--------------------------------------------------------------------------|\n",
    "|dateCrawled          |When this ad was first crawled. All field-values are taken from this date |\n",
    "|name                 |Name of the car                                                           |\n",
    "|seller               |Whether the seller is private or a dealer                                 |\n",
    "|offerType            |The type of listing                                                       | \n",
    "|price                |The price on the ad to sell the car                                       |\n",
    "|abtest               |Whether the listing is included in an A/B test                            | \n",
    "|vehicleType          |The vehicle type                                                          |\n",
    "|yearOfRegistration   |The year in which the car was first registered                            |\n",
    "|gearbox              |The transmission type                                                     | \n",
    "|powerPS              |The power of the car in PS                                                |\n",
    "|model                |The car model name                                                        |\n",
    "|kilometer            |How many kilometers the car has driven                                    |\n",
    "|monthOfRegistration  |The month in which the car was first registered                           |\n",
    "|fuelType             |What type of fuel the car uses                                            |\n",
    "|brand                |The brand of the car                                                      | \n",
    "|notRepairedDamage    |If the car has a damage which is not yet repaired                         |\n",
    "|dateCreated          |The date on which the eBay listing was created                            |\n",
    "|nrOfPictures         |The number of pictures in the ad                                          |\n",
    "|postalCode           |The postal code for the location of the vehicle                           |\n",
    "|lastSeenOnline       |When the crawler saw this ad last online                                  |\n",
    "\n",
    "\n",
    "At first we'll import Pandas and NumPy libraries and read the dataset into Pandas."
   ]
  },
  {
   "cell_type": "code",
   "execution_count": 1,
   "metadata": {},
   "outputs": [],
   "source": [
    "import pandas as pd\n",
    "import numpy as np\n",
    "\n",
    "# reduced file\n",
    "autos = pd.read_csv(\"autos.csv\", encoding=\"Latin-1\")\n",
    "\n",
    "# original file available at Kaggle\n",
    "autos_kaggle = pd.read_csv(\"autos_kaggle.csv\", encoding=\"Latin-1\")"
   ]
  },
  {
   "cell_type": "markdown",
   "metadata": {},
   "source": [
    "Even though we'll use the reduced dataset we can compare its dimensionality with the original one."
   ]
  },
  {
   "cell_type": "code",
   "execution_count": 2,
   "metadata": {},
   "outputs": [
    {
     "name": "stdout",
     "output_type": "stream",
     "text": [
      "Dimensionality of the reduced dataframe: (50000, 20)\n"
     ]
    }
   ],
   "source": [
    "print('Dimensionality of the reduced dataframe:', autos.shape)"
   ]
  },
  {
   "cell_type": "code",
   "execution_count": 3,
   "metadata": {},
   "outputs": [
    {
     "name": "stdout",
     "output_type": "stream",
     "text": [
      "Dimensionality of the original dataframe: (371528, 20)\n"
     ]
    }
   ],
   "source": [
    "print('Dimensionality of the original dataframe:', autos_kaggle.shape)"
   ]
  },
  {
   "cell_type": "markdown",
   "metadata": {},
   "source": [
    "We also can print the first lines of the dataset."
   ]
  },
  {
   "cell_type": "code",
   "execution_count": 4,
   "metadata": {},
   "outputs": [
    {
     "data": {
      "text/html": [
       "<div>\n",
       "<style scoped>\n",
       "    .dataframe tbody tr th:only-of-type {\n",
       "        vertical-align: middle;\n",
       "    }\n",
       "\n",
       "    .dataframe tbody tr th {\n",
       "        vertical-align: top;\n",
       "    }\n",
       "\n",
       "    .dataframe thead th {\n",
       "        text-align: right;\n",
       "    }\n",
       "</style>\n",
       "<table border=\"1\" class=\"dataframe\">\n",
       "  <thead>\n",
       "    <tr style=\"text-align: right;\">\n",
       "      <th></th>\n",
       "      <th>dateCrawled</th>\n",
       "      <th>name</th>\n",
       "      <th>seller</th>\n",
       "      <th>offerType</th>\n",
       "      <th>price</th>\n",
       "      <th>abtest</th>\n",
       "      <th>vehicleType</th>\n",
       "      <th>yearOfRegistration</th>\n",
       "      <th>gearbox</th>\n",
       "      <th>powerPS</th>\n",
       "      <th>model</th>\n",
       "      <th>odometer</th>\n",
       "      <th>monthOfRegistration</th>\n",
       "      <th>fuelType</th>\n",
       "      <th>brand</th>\n",
       "      <th>notRepairedDamage</th>\n",
       "      <th>dateCreated</th>\n",
       "      <th>nrOfPictures</th>\n",
       "      <th>postalCode</th>\n",
       "      <th>lastSeen</th>\n",
       "    </tr>\n",
       "  </thead>\n",
       "  <tbody>\n",
       "    <tr>\n",
       "      <th>0</th>\n",
       "      <td>2016-03-26 17:47:46</td>\n",
       "      <td>Peugeot_807_160_NAVTECH_ON_BOARD</td>\n",
       "      <td>privat</td>\n",
       "      <td>Angebot</td>\n",
       "      <td>$5,000</td>\n",
       "      <td>control</td>\n",
       "      <td>bus</td>\n",
       "      <td>2004</td>\n",
       "      <td>manuell</td>\n",
       "      <td>158</td>\n",
       "      <td>andere</td>\n",
       "      <td>150,000km</td>\n",
       "      <td>3</td>\n",
       "      <td>lpg</td>\n",
       "      <td>peugeot</td>\n",
       "      <td>nein</td>\n",
       "      <td>2016-03-26 00:00:00</td>\n",
       "      <td>0</td>\n",
       "      <td>79588</td>\n",
       "      <td>2016-04-06 06:45:54</td>\n",
       "    </tr>\n",
       "    <tr>\n",
       "      <th>1</th>\n",
       "      <td>2016-04-04 13:38:56</td>\n",
       "      <td>BMW_740i_4_4_Liter_HAMANN_UMBAU_Mega_Optik</td>\n",
       "      <td>privat</td>\n",
       "      <td>Angebot</td>\n",
       "      <td>$8,500</td>\n",
       "      <td>control</td>\n",
       "      <td>limousine</td>\n",
       "      <td>1997</td>\n",
       "      <td>automatik</td>\n",
       "      <td>286</td>\n",
       "      <td>7er</td>\n",
       "      <td>150,000km</td>\n",
       "      <td>6</td>\n",
       "      <td>benzin</td>\n",
       "      <td>bmw</td>\n",
       "      <td>nein</td>\n",
       "      <td>2016-04-04 00:00:00</td>\n",
       "      <td>0</td>\n",
       "      <td>71034</td>\n",
       "      <td>2016-04-06 14:45:08</td>\n",
       "    </tr>\n",
       "    <tr>\n",
       "      <th>2</th>\n",
       "      <td>2016-03-26 18:57:24</td>\n",
       "      <td>Volkswagen_Golf_1.6_United</td>\n",
       "      <td>privat</td>\n",
       "      <td>Angebot</td>\n",
       "      <td>$8,990</td>\n",
       "      <td>test</td>\n",
       "      <td>limousine</td>\n",
       "      <td>2009</td>\n",
       "      <td>manuell</td>\n",
       "      <td>102</td>\n",
       "      <td>golf</td>\n",
       "      <td>70,000km</td>\n",
       "      <td>7</td>\n",
       "      <td>benzin</td>\n",
       "      <td>volkswagen</td>\n",
       "      <td>nein</td>\n",
       "      <td>2016-03-26 00:00:00</td>\n",
       "      <td>0</td>\n",
       "      <td>35394</td>\n",
       "      <td>2016-04-06 20:15:37</td>\n",
       "    </tr>\n",
       "  </tbody>\n",
       "</table>\n",
       "</div>"
      ],
      "text/plain": [
       "           dateCrawled                                        name  seller  \\\n",
       "0  2016-03-26 17:47:46            Peugeot_807_160_NAVTECH_ON_BOARD  privat   \n",
       "1  2016-04-04 13:38:56  BMW_740i_4_4_Liter_HAMANN_UMBAU_Mega_Optik  privat   \n",
       "2  2016-03-26 18:57:24                  Volkswagen_Golf_1.6_United  privat   \n",
       "\n",
       "  offerType   price   abtest vehicleType  yearOfRegistration    gearbox  \\\n",
       "0   Angebot  $5,000  control         bus                2004    manuell   \n",
       "1   Angebot  $8,500  control   limousine                1997  automatik   \n",
       "2   Angebot  $8,990     test   limousine                2009    manuell   \n",
       "\n",
       "   powerPS   model   odometer  monthOfRegistration fuelType       brand  \\\n",
       "0      158  andere  150,000km                    3      lpg     peugeot   \n",
       "1      286     7er  150,000km                    6   benzin         bmw   \n",
       "2      102    golf   70,000km                    7   benzin  volkswagen   \n",
       "\n",
       "  notRepairedDamage          dateCreated  nrOfPictures  postalCode  \\\n",
       "0              nein  2016-03-26 00:00:00             0       79588   \n",
       "1              nein  2016-04-04 00:00:00             0       71034   \n",
       "2              nein  2016-03-26 00:00:00             0       35394   \n",
       "\n",
       "              lastSeen  \n",
       "0  2016-04-06 06:45:54  \n",
       "1  2016-04-06 14:45:08  \n",
       "2  2016-04-06 20:15:37  "
      ]
     },
     "execution_count": 4,
     "metadata": {},
     "output_type": "execute_result"
    }
   ],
   "source": [
    "# first lines of the reduced file\n",
    "autos.head(3)"
   ]
  },
  {
   "cell_type": "code",
   "execution_count": 5,
   "metadata": {},
   "outputs": [
    {
     "name": "stdout",
     "output_type": "stream",
     "text": [
      "<class 'pandas.core.frame.DataFrame'>\n",
      "RangeIndex: 50000 entries, 0 to 49999\n",
      "Data columns (total 20 columns):\n",
      "dateCrawled            50000 non-null object\n",
      "name                   50000 non-null object\n",
      "seller                 50000 non-null object\n",
      "offerType              50000 non-null object\n",
      "price                  50000 non-null object\n",
      "abtest                 50000 non-null object\n",
      "vehicleType            44905 non-null object\n",
      "yearOfRegistration     50000 non-null int64\n",
      "gearbox                47320 non-null object\n",
      "powerPS                50000 non-null int64\n",
      "model                  47242 non-null object\n",
      "odometer               50000 non-null object\n",
      "monthOfRegistration    50000 non-null int64\n",
      "fuelType               45518 non-null object\n",
      "brand                  50000 non-null object\n",
      "notRepairedDamage      40171 non-null object\n",
      "dateCreated            50000 non-null object\n",
      "nrOfPictures           50000 non-null int64\n",
      "postalCode             50000 non-null int64\n",
      "lastSeen               50000 non-null object\n",
      "dtypes: int64(5), object(15)\n",
      "memory usage: 7.6+ MB\n"
     ]
    }
   ],
   "source": [
    "# shows information about dataframe\n",
    "autos.info()"
   ]
  },
  {
   "cell_type": "markdown",
   "metadata": {},
   "source": [
    "As we can see from the results above:\n",
    "* The working dataset has dimensions of 50000 rows $\\times$ 20 columns and is smaller than the original one.\n",
    "* Most of the columns contain data as strings. \n",
    "* Some features as `price` and `odometer` also appear as objects but can be converted to numbers. \n",
    "* Columns names are written in camelcase and can be converted to snakecase since this is preferred by Python.\n",
    "* A small part of the dataset is formed by null values. "
   ]
  },
  {
   "cell_type": "markdown",
   "metadata": {},
   "source": [
    "To convert column's names from camelcase to snakecase first we copy and edit them, and later we use the `Dataframe.columns`\n",
    "to change their labels. "
   ]
  },
  {
   "cell_type": "markdown",
   "metadata": {},
   "source": [
    "## Data cleaning"
   ]
  },
  {
   "cell_type": "code",
   "execution_count": 6,
   "metadata": {},
   "outputs": [
    {
     "data": {
      "text/plain": [
       "['dateCrawled',\n",
       " 'name',\n",
       " 'seller',\n",
       " 'offerType',\n",
       " 'price',\n",
       " 'abtest',\n",
       " 'vehicleType',\n",
       " 'yearOfRegistration',\n",
       " 'gearbox',\n",
       " 'powerPS',\n",
       " 'model',\n",
       " 'odometer',\n",
       " 'monthOfRegistration',\n",
       " 'fuelType',\n",
       " 'brand',\n",
       " 'notRepairedDamage',\n",
       " 'dateCreated',\n",
       " 'nrOfPictures',\n",
       " 'postalCode',\n",
       " 'lastSeen']"
      ]
     },
     "execution_count": 6,
     "metadata": {},
     "output_type": "execute_result"
    }
   ],
   "source": [
    "list(autos.columns)"
   ]
  },
  {
   "cell_type": "code",
   "execution_count": 7,
   "metadata": {},
   "outputs": [],
   "source": [
    "autos.columns = ['date_crawled',\n",
    "                 'name',\n",
    "                 'seller',\n",
    "                 'offer_type',\n",
    "                 'price',\n",
    "                 'ab_test',\n",
    "                 'vehicle_type',\n",
    "                 'registration_year',\n",
    "                 'gearbox',\n",
    "                 'power_ps',\n",
    "                 'model',\n",
    "                 'odometer',\n",
    "                 'registration_month',\n",
    "                 'fuel_type',\n",
    "                 'brand',\n",
    "                 'unrepaired_damage',\n",
    "                 'ad_created',\n",
    "                 'num_of_pictures',\n",
    "                 'postal_code',\n",
    "                 'last_seen']"
   ]
  },
  {
   "cell_type": "markdown",
   "metadata": {},
   "source": [
    "We can see the result printing the first lines of the dataset. The changes we made make it easier to read."
   ]
  },
  {
   "cell_type": "code",
   "execution_count": 8,
   "metadata": {},
   "outputs": [
    {
     "data": {
      "text/html": [
       "<div>\n",
       "<style scoped>\n",
       "    .dataframe tbody tr th:only-of-type {\n",
       "        vertical-align: middle;\n",
       "    }\n",
       "\n",
       "    .dataframe tbody tr th {\n",
       "        vertical-align: top;\n",
       "    }\n",
       "\n",
       "    .dataframe thead th {\n",
       "        text-align: right;\n",
       "    }\n",
       "</style>\n",
       "<table border=\"1\" class=\"dataframe\">\n",
       "  <thead>\n",
       "    <tr style=\"text-align: right;\">\n",
       "      <th></th>\n",
       "      <th>date_crawled</th>\n",
       "      <th>name</th>\n",
       "      <th>seller</th>\n",
       "      <th>offer_type</th>\n",
       "      <th>price</th>\n",
       "      <th>ab_test</th>\n",
       "      <th>vehicle_type</th>\n",
       "      <th>registration_year</th>\n",
       "      <th>gearbox</th>\n",
       "      <th>power_ps</th>\n",
       "      <th>model</th>\n",
       "      <th>odometer</th>\n",
       "      <th>registration_month</th>\n",
       "      <th>fuel_type</th>\n",
       "      <th>brand</th>\n",
       "      <th>unrepaired_damage</th>\n",
       "      <th>ad_created</th>\n",
       "      <th>num_of_pictures</th>\n",
       "      <th>postal_code</th>\n",
       "      <th>last_seen</th>\n",
       "    </tr>\n",
       "  </thead>\n",
       "  <tbody>\n",
       "    <tr>\n",
       "      <th>0</th>\n",
       "      <td>2016-03-26 17:47:46</td>\n",
       "      <td>Peugeot_807_160_NAVTECH_ON_BOARD</td>\n",
       "      <td>privat</td>\n",
       "      <td>Angebot</td>\n",
       "      <td>$5,000</td>\n",
       "      <td>control</td>\n",
       "      <td>bus</td>\n",
       "      <td>2004</td>\n",
       "      <td>manuell</td>\n",
       "      <td>158</td>\n",
       "      <td>andere</td>\n",
       "      <td>150,000km</td>\n",
       "      <td>3</td>\n",
       "      <td>lpg</td>\n",
       "      <td>peugeot</td>\n",
       "      <td>nein</td>\n",
       "      <td>2016-03-26 00:00:00</td>\n",
       "      <td>0</td>\n",
       "      <td>79588</td>\n",
       "      <td>2016-04-06 06:45:54</td>\n",
       "    </tr>\n",
       "    <tr>\n",
       "      <th>1</th>\n",
       "      <td>2016-04-04 13:38:56</td>\n",
       "      <td>BMW_740i_4_4_Liter_HAMANN_UMBAU_Mega_Optik</td>\n",
       "      <td>privat</td>\n",
       "      <td>Angebot</td>\n",
       "      <td>$8,500</td>\n",
       "      <td>control</td>\n",
       "      <td>limousine</td>\n",
       "      <td>1997</td>\n",
       "      <td>automatik</td>\n",
       "      <td>286</td>\n",
       "      <td>7er</td>\n",
       "      <td>150,000km</td>\n",
       "      <td>6</td>\n",
       "      <td>benzin</td>\n",
       "      <td>bmw</td>\n",
       "      <td>nein</td>\n",
       "      <td>2016-04-04 00:00:00</td>\n",
       "      <td>0</td>\n",
       "      <td>71034</td>\n",
       "      <td>2016-04-06 14:45:08</td>\n",
       "    </tr>\n",
       "    <tr>\n",
       "      <th>2</th>\n",
       "      <td>2016-03-26 18:57:24</td>\n",
       "      <td>Volkswagen_Golf_1.6_United</td>\n",
       "      <td>privat</td>\n",
       "      <td>Angebot</td>\n",
       "      <td>$8,990</td>\n",
       "      <td>test</td>\n",
       "      <td>limousine</td>\n",
       "      <td>2009</td>\n",
       "      <td>manuell</td>\n",
       "      <td>102</td>\n",
       "      <td>golf</td>\n",
       "      <td>70,000km</td>\n",
       "      <td>7</td>\n",
       "      <td>benzin</td>\n",
       "      <td>volkswagen</td>\n",
       "      <td>nein</td>\n",
       "      <td>2016-03-26 00:00:00</td>\n",
       "      <td>0</td>\n",
       "      <td>35394</td>\n",
       "      <td>2016-04-06 20:15:37</td>\n",
       "    </tr>\n",
       "  </tbody>\n",
       "</table>\n",
       "</div>"
      ],
      "text/plain": [
       "          date_crawled                                        name  seller  \\\n",
       "0  2016-03-26 17:47:46            Peugeot_807_160_NAVTECH_ON_BOARD  privat   \n",
       "1  2016-04-04 13:38:56  BMW_740i_4_4_Liter_HAMANN_UMBAU_Mega_Optik  privat   \n",
       "2  2016-03-26 18:57:24                  Volkswagen_Golf_1.6_United  privat   \n",
       "\n",
       "  offer_type   price  ab_test vehicle_type  registration_year    gearbox  \\\n",
       "0    Angebot  $5,000  control          bus               2004    manuell   \n",
       "1    Angebot  $8,500  control    limousine               1997  automatik   \n",
       "2    Angebot  $8,990     test    limousine               2009    manuell   \n",
       "\n",
       "   power_ps   model   odometer  registration_month fuel_type       brand  \\\n",
       "0       158  andere  150,000km                   3       lpg     peugeot   \n",
       "1       286     7er  150,000km                   6    benzin         bmw   \n",
       "2       102    golf   70,000km                   7    benzin  volkswagen   \n",
       "\n",
       "  unrepaired_damage           ad_created  num_of_pictures  postal_code  \\\n",
       "0              nein  2016-03-26 00:00:00                0        79588   \n",
       "1              nein  2016-04-04 00:00:00                0        71034   \n",
       "2              nein  2016-03-26 00:00:00                0        35394   \n",
       "\n",
       "             last_seen  \n",
       "0  2016-04-06 06:45:54  \n",
       "1  2016-04-06 14:45:08  \n",
       "2  2016-04-06 20:15:37  "
      ]
     },
     "execution_count": 8,
     "metadata": {},
     "output_type": "execute_result"
    }
   ],
   "source": [
    "autos.head(3)"
   ]
  },
  {
   "cell_type": "markdown",
   "metadata": {},
   "source": [
    "We can print some descriptive statistics that sumarize the central tendency of the dataset."
   ]
  },
  {
   "cell_type": "code",
   "execution_count": 9,
   "metadata": {},
   "outputs": [
    {
     "data": {
      "text/html": [
       "<div>\n",
       "<style scoped>\n",
       "    .dataframe tbody tr th:only-of-type {\n",
       "        vertical-align: middle;\n",
       "    }\n",
       "\n",
       "    .dataframe tbody tr th {\n",
       "        vertical-align: top;\n",
       "    }\n",
       "\n",
       "    .dataframe thead th {\n",
       "        text-align: right;\n",
       "    }\n",
       "</style>\n",
       "<table border=\"1\" class=\"dataframe\">\n",
       "  <thead>\n",
       "    <tr style=\"text-align: right;\">\n",
       "      <th></th>\n",
       "      <th>date_crawled</th>\n",
       "      <th>name</th>\n",
       "      <th>seller</th>\n",
       "      <th>offer_type</th>\n",
       "      <th>price</th>\n",
       "      <th>ab_test</th>\n",
       "      <th>vehicle_type</th>\n",
       "      <th>registration_year</th>\n",
       "      <th>gearbox</th>\n",
       "      <th>power_ps</th>\n",
       "      <th>model</th>\n",
       "      <th>odometer</th>\n",
       "      <th>registration_month</th>\n",
       "      <th>fuel_type</th>\n",
       "      <th>brand</th>\n",
       "      <th>unrepaired_damage</th>\n",
       "      <th>ad_created</th>\n",
       "      <th>num_of_pictures</th>\n",
       "      <th>postal_code</th>\n",
       "      <th>last_seen</th>\n",
       "    </tr>\n",
       "  </thead>\n",
       "  <tbody>\n",
       "    <tr>\n",
       "      <th>count</th>\n",
       "      <td>50000</td>\n",
       "      <td>50000</td>\n",
       "      <td>50000</td>\n",
       "      <td>50000</td>\n",
       "      <td>50000</td>\n",
       "      <td>50000</td>\n",
       "      <td>44905</td>\n",
       "      <td>50000.000000</td>\n",
       "      <td>47320</td>\n",
       "      <td>50000.000000</td>\n",
       "      <td>47242</td>\n",
       "      <td>50000</td>\n",
       "      <td>50000.000000</td>\n",
       "      <td>45518</td>\n",
       "      <td>50000</td>\n",
       "      <td>40171</td>\n",
       "      <td>50000</td>\n",
       "      <td>50000.0</td>\n",
       "      <td>50000.000000</td>\n",
       "      <td>50000</td>\n",
       "    </tr>\n",
       "    <tr>\n",
       "      <th>unique</th>\n",
       "      <td>48213</td>\n",
       "      <td>38754</td>\n",
       "      <td>2</td>\n",
       "      <td>2</td>\n",
       "      <td>2357</td>\n",
       "      <td>2</td>\n",
       "      <td>8</td>\n",
       "      <td>NaN</td>\n",
       "      <td>2</td>\n",
       "      <td>NaN</td>\n",
       "      <td>245</td>\n",
       "      <td>13</td>\n",
       "      <td>NaN</td>\n",
       "      <td>7</td>\n",
       "      <td>40</td>\n",
       "      <td>2</td>\n",
       "      <td>76</td>\n",
       "      <td>NaN</td>\n",
       "      <td>NaN</td>\n",
       "      <td>39481</td>\n",
       "    </tr>\n",
       "    <tr>\n",
       "      <th>top</th>\n",
       "      <td>2016-03-21 16:37:21</td>\n",
       "      <td>Ford_Fiesta</td>\n",
       "      <td>privat</td>\n",
       "      <td>Angebot</td>\n",
       "      <td>$0</td>\n",
       "      <td>test</td>\n",
       "      <td>limousine</td>\n",
       "      <td>NaN</td>\n",
       "      <td>manuell</td>\n",
       "      <td>NaN</td>\n",
       "      <td>golf</td>\n",
       "      <td>150,000km</td>\n",
       "      <td>NaN</td>\n",
       "      <td>benzin</td>\n",
       "      <td>volkswagen</td>\n",
       "      <td>nein</td>\n",
       "      <td>2016-04-03 00:00:00</td>\n",
       "      <td>NaN</td>\n",
       "      <td>NaN</td>\n",
       "      <td>2016-04-07 06:17:27</td>\n",
       "    </tr>\n",
       "    <tr>\n",
       "      <th>freq</th>\n",
       "      <td>3</td>\n",
       "      <td>78</td>\n",
       "      <td>49999</td>\n",
       "      <td>49999</td>\n",
       "      <td>1421</td>\n",
       "      <td>25756</td>\n",
       "      <td>12859</td>\n",
       "      <td>NaN</td>\n",
       "      <td>36993</td>\n",
       "      <td>NaN</td>\n",
       "      <td>4024</td>\n",
       "      <td>32424</td>\n",
       "      <td>NaN</td>\n",
       "      <td>30107</td>\n",
       "      <td>10687</td>\n",
       "      <td>35232</td>\n",
       "      <td>1946</td>\n",
       "      <td>NaN</td>\n",
       "      <td>NaN</td>\n",
       "      <td>8</td>\n",
       "    </tr>\n",
       "    <tr>\n",
       "      <th>mean</th>\n",
       "      <td>NaN</td>\n",
       "      <td>NaN</td>\n",
       "      <td>NaN</td>\n",
       "      <td>NaN</td>\n",
       "      <td>NaN</td>\n",
       "      <td>NaN</td>\n",
       "      <td>NaN</td>\n",
       "      <td>2005.073280</td>\n",
       "      <td>NaN</td>\n",
       "      <td>116.355920</td>\n",
       "      <td>NaN</td>\n",
       "      <td>NaN</td>\n",
       "      <td>5.723360</td>\n",
       "      <td>NaN</td>\n",
       "      <td>NaN</td>\n",
       "      <td>NaN</td>\n",
       "      <td>NaN</td>\n",
       "      <td>0.0</td>\n",
       "      <td>50813.627300</td>\n",
       "      <td>NaN</td>\n",
       "    </tr>\n",
       "    <tr>\n",
       "      <th>std</th>\n",
       "      <td>NaN</td>\n",
       "      <td>NaN</td>\n",
       "      <td>NaN</td>\n",
       "      <td>NaN</td>\n",
       "      <td>NaN</td>\n",
       "      <td>NaN</td>\n",
       "      <td>NaN</td>\n",
       "      <td>105.712813</td>\n",
       "      <td>NaN</td>\n",
       "      <td>209.216627</td>\n",
       "      <td>NaN</td>\n",
       "      <td>NaN</td>\n",
       "      <td>3.711984</td>\n",
       "      <td>NaN</td>\n",
       "      <td>NaN</td>\n",
       "      <td>NaN</td>\n",
       "      <td>NaN</td>\n",
       "      <td>0.0</td>\n",
       "      <td>25779.747957</td>\n",
       "      <td>NaN</td>\n",
       "    </tr>\n",
       "    <tr>\n",
       "      <th>min</th>\n",
       "      <td>NaN</td>\n",
       "      <td>NaN</td>\n",
       "      <td>NaN</td>\n",
       "      <td>NaN</td>\n",
       "      <td>NaN</td>\n",
       "      <td>NaN</td>\n",
       "      <td>NaN</td>\n",
       "      <td>1000.000000</td>\n",
       "      <td>NaN</td>\n",
       "      <td>0.000000</td>\n",
       "      <td>NaN</td>\n",
       "      <td>NaN</td>\n",
       "      <td>0.000000</td>\n",
       "      <td>NaN</td>\n",
       "      <td>NaN</td>\n",
       "      <td>NaN</td>\n",
       "      <td>NaN</td>\n",
       "      <td>0.0</td>\n",
       "      <td>1067.000000</td>\n",
       "      <td>NaN</td>\n",
       "    </tr>\n",
       "    <tr>\n",
       "      <th>25%</th>\n",
       "      <td>NaN</td>\n",
       "      <td>NaN</td>\n",
       "      <td>NaN</td>\n",
       "      <td>NaN</td>\n",
       "      <td>NaN</td>\n",
       "      <td>NaN</td>\n",
       "      <td>NaN</td>\n",
       "      <td>1999.000000</td>\n",
       "      <td>NaN</td>\n",
       "      <td>70.000000</td>\n",
       "      <td>NaN</td>\n",
       "      <td>NaN</td>\n",
       "      <td>3.000000</td>\n",
       "      <td>NaN</td>\n",
       "      <td>NaN</td>\n",
       "      <td>NaN</td>\n",
       "      <td>NaN</td>\n",
       "      <td>0.0</td>\n",
       "      <td>30451.000000</td>\n",
       "      <td>NaN</td>\n",
       "    </tr>\n",
       "    <tr>\n",
       "      <th>50%</th>\n",
       "      <td>NaN</td>\n",
       "      <td>NaN</td>\n",
       "      <td>NaN</td>\n",
       "      <td>NaN</td>\n",
       "      <td>NaN</td>\n",
       "      <td>NaN</td>\n",
       "      <td>NaN</td>\n",
       "      <td>2003.000000</td>\n",
       "      <td>NaN</td>\n",
       "      <td>105.000000</td>\n",
       "      <td>NaN</td>\n",
       "      <td>NaN</td>\n",
       "      <td>6.000000</td>\n",
       "      <td>NaN</td>\n",
       "      <td>NaN</td>\n",
       "      <td>NaN</td>\n",
       "      <td>NaN</td>\n",
       "      <td>0.0</td>\n",
       "      <td>49577.000000</td>\n",
       "      <td>NaN</td>\n",
       "    </tr>\n",
       "    <tr>\n",
       "      <th>75%</th>\n",
       "      <td>NaN</td>\n",
       "      <td>NaN</td>\n",
       "      <td>NaN</td>\n",
       "      <td>NaN</td>\n",
       "      <td>NaN</td>\n",
       "      <td>NaN</td>\n",
       "      <td>NaN</td>\n",
       "      <td>2008.000000</td>\n",
       "      <td>NaN</td>\n",
       "      <td>150.000000</td>\n",
       "      <td>NaN</td>\n",
       "      <td>NaN</td>\n",
       "      <td>9.000000</td>\n",
       "      <td>NaN</td>\n",
       "      <td>NaN</td>\n",
       "      <td>NaN</td>\n",
       "      <td>NaN</td>\n",
       "      <td>0.0</td>\n",
       "      <td>71540.000000</td>\n",
       "      <td>NaN</td>\n",
       "    </tr>\n",
       "    <tr>\n",
       "      <th>max</th>\n",
       "      <td>NaN</td>\n",
       "      <td>NaN</td>\n",
       "      <td>NaN</td>\n",
       "      <td>NaN</td>\n",
       "      <td>NaN</td>\n",
       "      <td>NaN</td>\n",
       "      <td>NaN</td>\n",
       "      <td>9999.000000</td>\n",
       "      <td>NaN</td>\n",
       "      <td>17700.000000</td>\n",
       "      <td>NaN</td>\n",
       "      <td>NaN</td>\n",
       "      <td>12.000000</td>\n",
       "      <td>NaN</td>\n",
       "      <td>NaN</td>\n",
       "      <td>NaN</td>\n",
       "      <td>NaN</td>\n",
       "      <td>0.0</td>\n",
       "      <td>99998.000000</td>\n",
       "      <td>NaN</td>\n",
       "    </tr>\n",
       "  </tbody>\n",
       "</table>\n",
       "</div>"
      ],
      "text/plain": [
       "               date_crawled         name  seller offer_type  price ab_test  \\\n",
       "count                 50000        50000   50000      50000  50000   50000   \n",
       "unique                48213        38754       2          2   2357       2   \n",
       "top     2016-03-21 16:37:21  Ford_Fiesta  privat    Angebot     $0    test   \n",
       "freq                      3           78   49999      49999   1421   25756   \n",
       "mean                    NaN          NaN     NaN        NaN    NaN     NaN   \n",
       "std                     NaN          NaN     NaN        NaN    NaN     NaN   \n",
       "min                     NaN          NaN     NaN        NaN    NaN     NaN   \n",
       "25%                     NaN          NaN     NaN        NaN    NaN     NaN   \n",
       "50%                     NaN          NaN     NaN        NaN    NaN     NaN   \n",
       "75%                     NaN          NaN     NaN        NaN    NaN     NaN   \n",
       "max                     NaN          NaN     NaN        NaN    NaN     NaN   \n",
       "\n",
       "       vehicle_type  registration_year  gearbox      power_ps  model  \\\n",
       "count         44905       50000.000000    47320  50000.000000  47242   \n",
       "unique            8                NaN        2           NaN    245   \n",
       "top       limousine                NaN  manuell           NaN   golf   \n",
       "freq          12859                NaN    36993           NaN   4024   \n",
       "mean            NaN        2005.073280      NaN    116.355920    NaN   \n",
       "std             NaN         105.712813      NaN    209.216627    NaN   \n",
       "min             NaN        1000.000000      NaN      0.000000    NaN   \n",
       "25%             NaN        1999.000000      NaN     70.000000    NaN   \n",
       "50%             NaN        2003.000000      NaN    105.000000    NaN   \n",
       "75%             NaN        2008.000000      NaN    150.000000    NaN   \n",
       "max             NaN        9999.000000      NaN  17700.000000    NaN   \n",
       "\n",
       "         odometer  registration_month fuel_type       brand unrepaired_damage  \\\n",
       "count       50000        50000.000000     45518       50000             40171   \n",
       "unique         13                 NaN         7          40                 2   \n",
       "top     150,000km                 NaN    benzin  volkswagen              nein   \n",
       "freq        32424                 NaN     30107       10687             35232   \n",
       "mean          NaN            5.723360       NaN         NaN               NaN   \n",
       "std           NaN            3.711984       NaN         NaN               NaN   \n",
       "min           NaN            0.000000       NaN         NaN               NaN   \n",
       "25%           NaN            3.000000       NaN         NaN               NaN   \n",
       "50%           NaN            6.000000       NaN         NaN               NaN   \n",
       "75%           NaN            9.000000       NaN         NaN               NaN   \n",
       "max           NaN           12.000000       NaN         NaN               NaN   \n",
       "\n",
       "                 ad_created  num_of_pictures   postal_code  \\\n",
       "count                 50000          50000.0  50000.000000   \n",
       "unique                   76              NaN           NaN   \n",
       "top     2016-04-03 00:00:00              NaN           NaN   \n",
       "freq                   1946              NaN           NaN   \n",
       "mean                    NaN              0.0  50813.627300   \n",
       "std                     NaN              0.0  25779.747957   \n",
       "min                     NaN              0.0   1067.000000   \n",
       "25%                     NaN              0.0  30451.000000   \n",
       "50%                     NaN              0.0  49577.000000   \n",
       "75%                     NaN              0.0  71540.000000   \n",
       "max                     NaN              0.0  99998.000000   \n",
       "\n",
       "                  last_seen  \n",
       "count                 50000  \n",
       "unique                39481  \n",
       "top     2016-04-07 06:17:27  \n",
       "freq                      8  \n",
       "mean                    NaN  \n",
       "std                     NaN  \n",
       "min                     NaN  \n",
       "25%                     NaN  \n",
       "50%                     NaN  \n",
       "75%                     NaN  \n",
       "max                     NaN  "
      ]
     },
     "execution_count": 9,
     "metadata": {},
     "output_type": "execute_result"
    }
   ],
   "source": [
    "autos.describe(include='all')\n",
    "#autos.describe(exclude=[np.object])"
   ]
  },
  {
   "cell_type": "markdown",
   "metadata": {},
   "source": [
    "Each one of the columns:\n",
    "\n",
    "* `seller`\n",
    "* `offer_type`\n",
    "* `ab_test`\n",
    "* `gearbox` \n",
    "\n",
    "has only two unique values, and the column `num_of_pictures` seems to have only zeros.\n",
    "\n",
    "Let's take a closer look at each one of them."
   ]
  },
  {
   "cell_type": "code",
   "execution_count": 10,
   "metadata": {},
   "outputs": [
    {
     "data": {
      "text/plain": [
       "privat        49999\n",
       "gewerblich        1\n",
       "Name: seller, dtype: int64"
      ]
     },
     "execution_count": 10,
     "metadata": {},
     "output_type": "execute_result"
    }
   ],
   "source": [
    "autos['seller'].value_counts()"
   ]
  },
  {
   "cell_type": "code",
   "execution_count": 11,
   "metadata": {},
   "outputs": [
    {
     "data": {
      "text/plain": [
       "Angebot    49999\n",
       "Gesuch         1\n",
       "Name: offer_type, dtype: int64"
      ]
     },
     "execution_count": 11,
     "metadata": {},
     "output_type": "execute_result"
    }
   ],
   "source": [
    "autos['offer_type'].value_counts()"
   ]
  },
  {
   "cell_type": "code",
   "execution_count": 12,
   "metadata": {},
   "outputs": [
    {
     "data": {
      "text/plain": [
       "test       25756\n",
       "control    24244\n",
       "Name: ab_test, dtype: int64"
      ]
     },
     "execution_count": 12,
     "metadata": {},
     "output_type": "execute_result"
    }
   ],
   "source": [
    "autos['ab_test'].value_counts()"
   ]
  },
  {
   "cell_type": "code",
   "execution_count": 13,
   "metadata": {},
   "outputs": [
    {
     "data": {
      "text/plain": [
       "manuell      36993\n",
       "automatik    10327\n",
       "Name: gearbox, dtype: int64"
      ]
     },
     "execution_count": 13,
     "metadata": {},
     "output_type": "execute_result"
    }
   ],
   "source": [
    "autos['gearbox'].value_counts()"
   ]
  },
  {
   "cell_type": "code",
   "execution_count": 14,
   "metadata": {},
   "outputs": [
    {
     "data": {
      "text/plain": [
       "0    50000\n",
       "Name: num_of_pictures, dtype: int64"
      ]
     },
     "execution_count": 14,
     "metadata": {},
     "output_type": "execute_result"
    }
   ],
   "source": [
    "autos['num_of_pictures'].value_counts()"
   ]
  },
  {
   "cell_type": "markdown",
   "metadata": {},
   "source": [
    "As can be seen, each one of the columns `seller` and `offer_type` has nearly all the same values, so we can drop them.\n",
    "\n",
    "And since the only value in column `num_of_pictures` is zero we can also drop it."
   ]
  },
  {
   "cell_type": "code",
   "execution_count": 15,
   "metadata": {},
   "outputs": [],
   "source": [
    "autos = autos.drop(['seller', 'offer_type', 'num_of_pictures'], axis=1)"
   ]
  },
  {
   "cell_type": "code",
   "execution_count": 16,
   "metadata": {},
   "outputs": [
    {
     "data": {
      "text/plain": [
       "(50000, 17)"
      ]
     },
     "execution_count": 16,
     "metadata": {},
     "output_type": "execute_result"
    }
   ],
   "source": [
    "autos.shape"
   ]
  },
  {
   "cell_type": "markdown",
   "metadata": {},
   "source": [
    "The columns `price` and `odometer` are stored as text but store numeric values so we must remove non-numeric characters and convert them to the correct format."
   ]
  },
  {
   "cell_type": "code",
   "execution_count": 17,
   "metadata": {},
   "outputs": [],
   "source": [
    "autos['price'] = autos['price'].str.replace('$','').str.replace(',','')\n",
    "autos['odometer'] = autos['odometer'].str.replace('km','').str.replace(',','')"
   ]
  },
  {
   "cell_type": "markdown",
   "metadata": {},
   "source": [
    "Since we remove the unit _km_ from the individual values we can change the name of the column to keep this information."
   ]
  },
  {
   "cell_type": "code",
   "execution_count": 18,
   "metadata": {},
   "outputs": [],
   "source": [
    "autos.rename({\"odometer\":\"odometer_km\"}, axis=1, inplace=True)"
   ]
  },
  {
   "cell_type": "code",
   "execution_count": 19,
   "metadata": {},
   "outputs": [],
   "source": [
    "autos['price'] = autos['price'].astype(int)\n",
    "autos['odometer_km'] = autos['odometer_km'].astype(int)"
   ]
  },
  {
   "cell_type": "markdown",
   "metadata": {},
   "source": [
    "The result  below shows the last modifications on our dataset."
   ]
  },
  {
   "cell_type": "code",
   "execution_count": 20,
   "metadata": {},
   "outputs": [
    {
     "name": "stdout",
     "output_type": "stream",
     "text": [
      "date_crawled          object\n",
      "name                  object\n",
      "price                  int32\n",
      "ab_test               object\n",
      "vehicle_type          object\n",
      "registration_year      int64\n",
      "gearbox               object\n",
      "power_ps               int64\n",
      "model                 object\n",
      "odometer_km            int32\n",
      "registration_month     int64\n",
      "fuel_type             object\n",
      "brand                 object\n",
      "unrepaired_damage     object\n",
      "ad_created            object\n",
      "postal_code            int64\n",
      "last_seen             object\n",
      "dtype: object\n"
     ]
    }
   ],
   "source": [
    "print(autos.dtypes)"
   ]
  },
  {
   "cell_type": "code",
   "execution_count": 21,
   "metadata": {},
   "outputs": [
    {
     "data": {
      "text/html": [
       "<div>\n",
       "<style scoped>\n",
       "    .dataframe tbody tr th:only-of-type {\n",
       "        vertical-align: middle;\n",
       "    }\n",
       "\n",
       "    .dataframe tbody tr th {\n",
       "        vertical-align: top;\n",
       "    }\n",
       "\n",
       "    .dataframe thead th {\n",
       "        text-align: right;\n",
       "    }\n",
       "</style>\n",
       "<table border=\"1\" class=\"dataframe\">\n",
       "  <thead>\n",
       "    <tr style=\"text-align: right;\">\n",
       "      <th></th>\n",
       "      <th>date_crawled</th>\n",
       "      <th>name</th>\n",
       "      <th>price</th>\n",
       "      <th>ab_test</th>\n",
       "      <th>vehicle_type</th>\n",
       "      <th>registration_year</th>\n",
       "      <th>gearbox</th>\n",
       "      <th>power_ps</th>\n",
       "      <th>model</th>\n",
       "      <th>odometer_km</th>\n",
       "      <th>registration_month</th>\n",
       "      <th>fuel_type</th>\n",
       "      <th>brand</th>\n",
       "      <th>unrepaired_damage</th>\n",
       "      <th>ad_created</th>\n",
       "      <th>postal_code</th>\n",
       "      <th>last_seen</th>\n",
       "    </tr>\n",
       "  </thead>\n",
       "  <tbody>\n",
       "    <tr>\n",
       "      <th>0</th>\n",
       "      <td>2016-03-26 17:47:46</td>\n",
       "      <td>Peugeot_807_160_NAVTECH_ON_BOARD</td>\n",
       "      <td>5000</td>\n",
       "      <td>control</td>\n",
       "      <td>bus</td>\n",
       "      <td>2004</td>\n",
       "      <td>manuell</td>\n",
       "      <td>158</td>\n",
       "      <td>andere</td>\n",
       "      <td>150000</td>\n",
       "      <td>3</td>\n",
       "      <td>lpg</td>\n",
       "      <td>peugeot</td>\n",
       "      <td>nein</td>\n",
       "      <td>2016-03-26 00:00:00</td>\n",
       "      <td>79588</td>\n",
       "      <td>2016-04-06 06:45:54</td>\n",
       "    </tr>\n",
       "    <tr>\n",
       "      <th>1</th>\n",
       "      <td>2016-04-04 13:38:56</td>\n",
       "      <td>BMW_740i_4_4_Liter_HAMANN_UMBAU_Mega_Optik</td>\n",
       "      <td>8500</td>\n",
       "      <td>control</td>\n",
       "      <td>limousine</td>\n",
       "      <td>1997</td>\n",
       "      <td>automatik</td>\n",
       "      <td>286</td>\n",
       "      <td>7er</td>\n",
       "      <td>150000</td>\n",
       "      <td>6</td>\n",
       "      <td>benzin</td>\n",
       "      <td>bmw</td>\n",
       "      <td>nein</td>\n",
       "      <td>2016-04-04 00:00:00</td>\n",
       "      <td>71034</td>\n",
       "      <td>2016-04-06 14:45:08</td>\n",
       "    </tr>\n",
       "    <tr>\n",
       "      <th>2</th>\n",
       "      <td>2016-03-26 18:57:24</td>\n",
       "      <td>Volkswagen_Golf_1.6_United</td>\n",
       "      <td>8990</td>\n",
       "      <td>test</td>\n",
       "      <td>limousine</td>\n",
       "      <td>2009</td>\n",
       "      <td>manuell</td>\n",
       "      <td>102</td>\n",
       "      <td>golf</td>\n",
       "      <td>70000</td>\n",
       "      <td>7</td>\n",
       "      <td>benzin</td>\n",
       "      <td>volkswagen</td>\n",
       "      <td>nein</td>\n",
       "      <td>2016-03-26 00:00:00</td>\n",
       "      <td>35394</td>\n",
       "      <td>2016-04-06 20:15:37</td>\n",
       "    </tr>\n",
       "  </tbody>\n",
       "</table>\n",
       "</div>"
      ],
      "text/plain": [
       "          date_crawled                                        name  price  \\\n",
       "0  2016-03-26 17:47:46            Peugeot_807_160_NAVTECH_ON_BOARD   5000   \n",
       "1  2016-04-04 13:38:56  BMW_740i_4_4_Liter_HAMANN_UMBAU_Mega_Optik   8500   \n",
       "2  2016-03-26 18:57:24                  Volkswagen_Golf_1.6_United   8990   \n",
       "\n",
       "   ab_test vehicle_type  registration_year    gearbox  power_ps   model  \\\n",
       "0  control          bus               2004    manuell       158  andere   \n",
       "1  control    limousine               1997  automatik       286     7er   \n",
       "2     test    limousine               2009    manuell       102    golf   \n",
       "\n",
       "   odometer_km  registration_month fuel_type       brand unrepaired_damage  \\\n",
       "0       150000                   3       lpg     peugeot              nein   \n",
       "1       150000                   6    benzin         bmw              nein   \n",
       "2        70000                   7    benzin  volkswagen              nein   \n",
       "\n",
       "            ad_created  postal_code            last_seen  \n",
       "0  2016-03-26 00:00:00        79588  2016-04-06 06:45:54  \n",
       "1  2016-04-04 00:00:00        71034  2016-04-06 14:45:08  \n",
       "2  2016-03-26 00:00:00        35394  2016-04-06 20:15:37  "
      ]
     },
     "execution_count": 21,
     "metadata": {},
     "output_type": "execute_result"
    }
   ],
   "source": [
    "autos.head(3)"
   ]
  },
  {
   "cell_type": "markdown",
   "metadata": {},
   "source": [
    "# Exploring the data: odometer_km and price\n",
    "\n",
    "Let's analyze the data and look for any unrealistic behavior or outliers that could be removed.\n",
    "\n",
    "First, we can see the number of unique values for the columns `price` and `odometer_km`"
   ]
  },
  {
   "cell_type": "markdown",
   "metadata": {},
   "source": [
    "### Column `odometer_km`"
   ]
  },
  {
   "cell_type": "code",
   "execution_count": 22,
   "metadata": {},
   "outputs": [
    {
     "data": {
      "text/plain": [
       "(13,)"
      ]
     },
     "execution_count": 22,
     "metadata": {},
     "output_type": "execute_result"
    }
   ],
   "source": [
    "autos['odometer_km'].unique().shape"
   ]
  },
  {
   "cell_type": "code",
   "execution_count": 23,
   "metadata": {},
   "outputs": [
    {
     "data": {
      "text/plain": [
       "count     50000.000000\n",
       "mean     125732.700000\n",
       "std       40042.211706\n",
       "min        5000.000000\n",
       "25%      125000.000000\n",
       "50%      150000.000000\n",
       "75%      150000.000000\n",
       "max      150000.000000\n",
       "Name: odometer_km, dtype: float64"
      ]
     },
     "execution_count": 23,
     "metadata": {},
     "output_type": "execute_result"
    }
   ],
   "source": [
    "autos['odometer_km'].describe()"
   ]
  },
  {
   "cell_type": "code",
   "execution_count": 24,
   "metadata": {},
   "outputs": [
    {
     "data": {
      "text/plain": [
       "150000    32424\n",
       "125000     5170\n",
       "100000     2169\n",
       "90000      1757\n",
       "80000      1436\n",
       "70000      1230\n",
       "60000      1164\n",
       "50000      1027\n",
       "5000        967\n",
       "40000       819\n",
       "30000       789\n",
       "20000       784\n",
       "10000       264\n",
       "Name: odometer_km, dtype: int64"
      ]
     },
     "execution_count": 24,
     "metadata": {},
     "output_type": "execute_result"
    }
   ],
   "source": [
    "autos['odometer_km'].value_counts()"
   ]
  },
  {
   "cell_type": "code",
   "execution_count": 25,
   "metadata": {},
   "outputs": [
    {
     "data": {
      "text/plain": [
       "150000    32424\n",
       "125000     5170\n",
       "100000     2169\n",
       "90000      1757\n",
       "80000      1436\n",
       "70000      1230\n",
       "60000      1164\n",
       "50000      1027\n",
       "40000       819\n",
       "30000       789\n",
       "20000       784\n",
       "10000       264\n",
       "5000        967\n",
       "Name: odometer_km, dtype: int64"
      ]
     },
     "execution_count": 25,
     "metadata": {},
     "output_type": "execute_result"
    }
   ],
   "source": [
    "autos['odometer_km'].value_counts().sort_index(ascending=False)"
   ]
  },
  {
   "cell_type": "markdown",
   "metadata": {},
   "source": [
    "There are 13 unique values for `odometer_km` and the numbers are rounded what indicates that the field could be designed with pre-set options. Moreover, the mean greater than 125,000 shows that most cars present high mileage. The histogram plotted below illustrates it better (see **Figure 1**)."
   ]
  },
  {
   "cell_type": "code",
   "execution_count": null,
   "metadata": {},
   "outputs": [],
   "source": [
    "import matplotlib.pyplot as plt\n",
    "import matplotlib.ticker as ticker\n",
    "\n",
    "plt.style.use('bmh')\n",
    "\n",
    "fig, ax = plt.subplots(figsize=(12,6))\n",
    "\n",
    "ax.hist(autos['odometer_km'], bins=10)\n",
    "ax.set_xlabel('kilometer driven', labelpad=20)\n",
    "ax.tick_params(axis='both', which='both', length=5, width=1, direction='out', labelsize=14)\n",
    "ax.set_xlim(left=0, right=160000)\n",
    "ax.set_ylim(bottom=0, top=40000)\n",
    "ax.xaxis.set_major_locator(ticker.MultipleLocator(40000))\n",
    "ax.xaxis.set_minor_locator(ticker.MultipleLocator(20000))\n",
    "ax.yaxis.set_major_locator(ticker.MultipleLocator(10000))\n",
    "ax.yaxis.set_minor_locator(ticker.MultipleLocator(5000))\n",
    "\n",
    "ax.grid(which='major', linestyle='-')\n",
    "ax.grid(which='minor', linestyle='-')\n",
    "ax.set_title('')\n",
    "\n",
    "txt=\"Figure 1. Distribution of odometer readings.\"\n",
    "plt.figtext(0.5, -0.1, txt, wrap=True, horizontalalignment='center', fontsize=14)\n",
    "plt.show()"
   ]
  },
  {
   "cell_type": "markdown",
   "metadata": {},
   "source": [
    "### Column `price`"
   ]
  },
  {
   "cell_type": "code",
   "execution_count": null,
   "metadata": {},
   "outputs": [],
   "source": [
    "autos['price'].unique().shape"
   ]
  },
  {
   "cell_type": "markdown",
   "metadata": {},
   "source": [
    "We can also look at some basic statistics."
   ]
  },
  {
   "cell_type": "code",
   "execution_count": null,
   "metadata": {},
   "outputs": [],
   "source": [
    "autos['price'].describe()"
   ]
  },
  {
   "cell_type": "markdown",
   "metadata": {},
   "source": [
    "Visualizing maximum and minimum values can also be helpful."
   ]
  },
  {
   "cell_type": "code",
   "execution_count": null,
   "metadata": {},
   "outputs": [],
   "source": [
    "autos['price'].value_counts().head(10)"
   ]
  },
  {
   "cell_type": "code",
   "execution_count": null,
   "metadata": {},
   "outputs": [],
   "source": [
    "autos['price'].value_counts().sort_index(ascending=True).head(10)"
   ]
  },
  {
   "cell_type": "code",
   "execution_count": null,
   "metadata": {},
   "outputs": [],
   "source": [
    "autos['price'].value_counts().sort_index(ascending=False).head(10)"
   ]
  },
  {
   "cell_type": "markdown",
   "metadata": {},
   "source": [
    "There are 2357 unique values for `price` and the numbers in this field are also rounded. \n",
    "\n",
    "The results show that 1421 cars (2.8% of the dataset) have the minimum price equal to zero and we can remove them. The maximum price is equal to 100M dollars. We also can observe that there some prices below 30 dollars and some above one million. \n",
    "\n",
    "Since eBay in an auction site, it's acceptable that items have an opening bid lower as one dollar. However, we'll remove entries above 350k dollars."
   ]
  },
  {
   "cell_type": "code",
   "execution_count": null,
   "metadata": {},
   "outputs": [],
   "source": [
    "autos = autos[autos['price'].between(1,351000)]"
   ]
  },
  {
   "cell_type": "code",
   "execution_count": null,
   "metadata": {},
   "outputs": [],
   "source": [
    "autos[\"price\"].describe()"
   ]
  },
  {
   "cell_type": "code",
   "execution_count": null,
   "metadata": {},
   "outputs": [],
   "source": [
    "autos.shape"
   ]
  },
  {
   "cell_type": "markdown",
   "metadata": {},
   "source": [
    "**Figure 2** illustrates the price after removing entries above 350k dollars."
   ]
  },
  {
   "cell_type": "code",
   "execution_count": null,
   "metadata": {},
   "outputs": [],
   "source": [
    "fig, ax = plt.subplots(figsize=(12,6))\n",
    "\n",
    "ax.hist(autos['price'], bins=1000)\n",
    "ax.set_xlabel('car prices in dollars', labelpad=20)\n",
    "ax.tick_params(axis='both', which='both', length=5, width=1, direction='out', labelsize=14)\n",
    "ax.set_xlim(left=-0, right=350000)\n",
    "ax.set_ylim(bottom=0, top=4500)\n",
    "ax.xaxis.set_major_locator(ticker.MultipleLocator(100000))\n",
    "ax.xaxis.set_minor_locator(ticker.MultipleLocator(50000))\n",
    "ax.yaxis.set_major_locator(ticker.MultipleLocator(1000))\n",
    "ax.grid(which='major', linestyle='-')\n",
    "ax.grid(which='minor', linestyle='-')\n",
    "\n",
    "\n",
    "txt=\"Figure 2. Distribution of prices.\"\n",
    "plt.figtext(0.5, -0.1, txt, wrap=True, horizontalalignment='center', fontsize=14)\n",
    "plt.show()"
   ]
  },
  {
   "cell_type": "markdown",
   "metadata": {},
   "source": [
    "For the sake of clarity, we can build a plot only with higher prices (see **Figure 3**)."
   ]
  },
  {
   "cell_type": "code",
   "execution_count": null,
   "metadata": {},
   "outputs": [],
   "source": [
    "price_higher_values =  autos[autos['price'].between(50000,351000)]"
   ]
  },
  {
   "cell_type": "code",
   "execution_count": null,
   "metadata": {},
   "outputs": [],
   "source": [
    "price_higher_values.shape"
   ]
  },
  {
   "cell_type": "code",
   "execution_count": null,
   "metadata": {},
   "outputs": [],
   "source": [
    "fig, ax = plt.subplots(figsize=(12,6))\n",
    "\n",
    "ax.hist(price_higher_values['price'], bins=50)\n",
    "ax.set_xlabel('cars prices in dollars', labelpad=20)\n",
    "ax.tick_params(axis='both', which='both', length=5, width=1, direction='out', labelsize=14)\n",
    "ax.set_xlim(left=50000, right=350000)\n",
    "ax.set_ylim(bottom=0, top=45)\n",
    "ax.xaxis.set_major_locator(ticker.MultipleLocator(50000))\n",
    "ax.xaxis.set_minor_locator(ticker.MultipleLocator(25000))\n",
    "ax.yaxis.set_major_locator(ticker.MultipleLocator(15))\n",
    "ax.yaxis.set_minor_locator(ticker.MultipleLocator(5))\n",
    "ax.grid(which='major', linestyle='-')\n",
    "ax.grid(which='minor', linestyle='-')\n",
    "\n",
    "txt=\"Figure 3. Distribution of prices above 50k dollars.\"\n",
    "plt.figtext(0.5, -0.1, txt, wrap=True, horizontalalignment='center', fontsize=14)\n",
    "plt.show()"
   ]
  },
  {
   "cell_type": "markdown",
   "metadata": {},
   "source": [
    "There are only 188 entries for the price above 50k dollars, i.e. less than 4% of the total dataset. Most prices are concentrated below 25k dollars and the average price is around 6k dollars."
   ]
  },
  {
   "cell_type": "markdown",
   "metadata": {},
   "source": [
    "## Analyzing date columns\n",
    "\n",
    "The following columns store data values:\n",
    "* `date_crawled` (added by crawler)\n",
    "* `ad_created` (from the website)\n",
    "* `last_seen` (added by crawler)\n",
    "* `registration_year` (from the website)\n",
    "* `registration_month` (from the website)\n",
    "\n",
    "The first three attributes are recognized as string by pandas and we need to convert them to numerical values. Let's take a look how they are formated:"
   ]
  },
  {
   "cell_type": "code",
   "execution_count": null,
   "metadata": {},
   "outputs": [],
   "source": [
    "autos[['date_crawled', 'ad_created','last_seen']][0:5]"
   ]
  },
  {
   "cell_type": "markdown",
   "metadata": {},
   "source": [
    "The first ten characters of each feature above represent the day (_2016-04-06_), so we can select and analyze only them."
   ]
  },
  {
   "cell_type": "code",
   "execution_count": null,
   "metadata": {},
   "outputs": [],
   "source": [
    "date_crawled = (autos['date_crawled']\n",
    "        .str[:10]\n",
    "        .value_counts(normalize=True, dropna=False)\n",
    "        .sort_index()\n",
    "        )"
   ]
  },
  {
   "cell_type": "code",
   "execution_count": null,
   "metadata": {},
   "outputs": [],
   "source": [
    "fig, ax = plt.subplots(figsize=(12,6))\n",
    "\n",
    "bar_heights = date_crawled.values\n",
    "bar_positions = date_crawled.index\n",
    "ax.set_xlabel('crawl date', fontsize=14, labelpad=20)\n",
    "ax.bar(bar_positions, bar_heights)\n",
    "ax.tick_params(axis='x', which='both', length=5, width=1, direction='out', labelsize=14, labelrotation=90)\n",
    "ax.tick_params(axis='y', which='both', length=5, width=1, direction='out', labelsize=14, labelrotation=0)\n",
    "ax.set_ylim(bottom=0, top=0.040)\n",
    "ax.yaxis.set_major_locator(ticker.MultipleLocator(0.010))\n",
    "ax.yaxis.set_minor_locator(ticker.MultipleLocator(0.005))\n",
    "ax.grid(which='major', linestyle='-')\n",
    "ax.grid(which='minor', linestyle='-')\n",
    "txt=\"Figure 4. Normalized counts of the date when the ad was first crawled.\"\n",
    "plt.figtext(0.5, -0.25, txt, wrap=True, horizontalalignment='center', fontsize=14)\n",
    "plt.show()"
   ]
  },
  {
   "cell_type": "markdown",
   "metadata": {},
   "source": [
    "The plotted distribution on **Figure 4** shows that the site was daily crawled, almost uniformly, for one month."
   ]
  },
  {
   "cell_type": "code",
   "execution_count": null,
   "metadata": {},
   "outputs": [],
   "source": [
    "ad_created = (autos['ad_created']\n",
    "             .str[:10]\n",
    "             .value_counts(normalize=True, dropna=False)\n",
    "             .sort_index()\n",
    "             )"
   ]
  },
  {
   "cell_type": "code",
   "execution_count": null,
   "metadata": {},
   "outputs": [],
   "source": [
    "fig, ax = plt.subplots(figsize=(20,6))\n",
    "\n",
    "bar_heights = ad_created.values\n",
    "bar_positions = ad_created.index\n",
    "ax.set_xlabel('ad creation date', fontsize=14, labelpad=20)\n",
    "ax.bar(bar_positions, bar_heights)\n",
    "ax.tick_params(axis='x', which='both', length=5, width=1, direction='out', labelsize=12, labelrotation=90)\n",
    "ax.tick_params(axis='y', which='both', length=5, width=1, direction='out', labelsize=14, labelrotation=0)\n",
    "ax.set_ylim(bottom=0, top=0.040)\n",
    "ax.yaxis.set_major_locator(ticker.MultipleLocator(0.010))\n",
    "ax.yaxis.set_minor_locator(ticker.MultipleLocator(0.005))\n",
    "ax.grid(which='major', linestyle='-')\n",
    "ax.grid(which='minor', linestyle='-')\n",
    "txt=\"Figure 5. Normalized counts of the date when the ad was created.\"\n",
    "plt.figtext(0.5, -0.25, txt, wrap=True, horizontalalignment='center', fontsize=14)\n",
    "plt.show()"
   ]
  },
  {
   "cell_type": "markdown",
   "metadata": {},
   "source": [
    "From **Figure 5** we can observe that the ad creation dates are not uniform during the entire period covered by the dataset. Their creation is concentrated on the last two months of the records."
   ]
  },
  {
   "cell_type": "code",
   "execution_count": null,
   "metadata": {},
   "outputs": [],
   "source": [
    "last_seen = (autos['last_seen']\n",
    "            .str[:10]\n",
    "            .value_counts(normalize=True, dropna=False)\n",
    "            .sort_index()\n",
    "            )"
   ]
  },
  {
   "cell_type": "code",
   "execution_count": null,
   "metadata": {},
   "outputs": [],
   "source": [
    "fig, ax = plt.subplots(figsize=(12,6))\n",
    "\n",
    "bar_heights = last_seen.values\n",
    "bar_positions = last_seen.index\n",
    "ax.set_xlabel('date the ad was saw online for the last time', fontsize=14, labelpad=20)\n",
    "ax.bar(bar_positions, bar_heights)\n",
    "ax.tick_params(axis='x', which='both', length=5, width=1, direction='out', labelsize=14, labelrotation=90)\n",
    "ax.tick_params(axis='y', which='both', length=5, width=1, direction='out', labelsize=14, labelrotation=0)\n",
    "ax.set_ylim(bottom=0, top=0.25)\n",
    "ax.yaxis.set_major_locator(ticker.MultipleLocator(0.05))\n",
    "ax.yaxis.set_minor_locator(ticker.MultipleLocator(0.025))\n",
    "ax.grid(which='major', linestyle='-')\n",
    "ax.grid(which='minor', linestyle='-')\n",
    "txt=\"Figure 6. Normalized counts of the date the add was saw online for the last time.\"\n",
    "plt.figtext(0.5, -0.25, txt, wrap=True, horizontalalignment='center', fontsize=14)\n",
    "plt.show()"
   ]
  },
  {
   "cell_type": "markdown",
   "metadata": {},
   "source": [
    "The `last_seen` on the list means that the ad was removed and car was probably sold (see **Figure 6**). The values observed for the last three days are greater than the average for the feature and could be associated with an anomaly rather than a sudden increase in sales."
   ]
  },
  {
   "cell_type": "markdown",
   "metadata": {},
   "source": [
    "## Handling incorrect data records for the year"
   ]
  },
  {
   "cell_type": "code",
   "execution_count": null,
   "metadata": {},
   "outputs": [],
   "source": [
    "autos['registration_year'].describe()"
   ]
  },
  {
   "cell_type": "markdown",
   "metadata": {},
   "source": [
    "The registration year, as the name suggests, represents the year that the car was first registered and also is an indication of its age (see **Figure 7**). The minimum and maximum values are 1000 and 9999 respectively. This is a strange finding considering that the cars were invented after the year 1000 and that the year 9999 is in a distant future."
   ]
  },
  {
   "cell_type": "code",
   "execution_count": null,
   "metadata": {},
   "outputs": [],
   "source": [
    "year_of_registration = (autos['registration_year']\n",
    "                        .value_counts(normalize=True, dropna=False)\n",
    "                        .sort_index()\n",
    "                       )"
   ]
  },
  {
   "cell_type": "code",
   "execution_count": null,
   "metadata": {},
   "outputs": [],
   "source": [
    "fig = plt.figure(figsize=(20,6))\n",
    "ax = year_of_registration.plot.bar()\n",
    "ax.set_xlabel('registration year', fontsize=14, labelpad=20)\n",
    "ax.tick_params(axis='x', which='both', length=5, width=1, direction='out', labelsize=12, labelrotation=90)\n",
    "ax.tick_params(axis='y', which='both', length=5, width=1, direction='out', labelsize=14, labelrotation=0)\n",
    "ax.set_ylim(bottom=0, top=0.07)\n",
    "ax.yaxis.set_major_locator(ticker.MultipleLocator(0.01))\n",
    "ax.yaxis.set_minor_locator(ticker.MultipleLocator(0.005))\n",
    "ax.grid(which='major', linestyle='-')\n",
    "ax.grid(which='minor', linestyle='-')\n",
    "txt=\"Figure 7. Normalized counts of the registration year.\"\n",
    "plt.figtext(0.5, -0.15, txt, wrap=True, horizontalalignment='center', fontsize=14)\n",
    "plt.show()"
   ]
  },
  {
   "cell_type": "markdown",
   "metadata": {},
   "source": [
    "We can separate the registration year into two plots, one including the years from 1000 to 1900 (**Figure 8**) and the other the years from 2019 to 9999 (**Figure 9**)."
   ]
  },
  {
   "cell_type": "code",
   "execution_count": null,
   "metadata": {},
   "outputs": [],
   "source": [
    "year_lower_values = autos[autos['registration_year'].between(1000,1900)]"
   ]
  },
  {
   "cell_type": "code",
   "execution_count": null,
   "metadata": {},
   "outputs": [],
   "source": [
    "fig, ax = plt.subplots(figsize=(12,6))\n",
    "\n",
    "ax.hist(year_lower_values['registration_year'], bins=100)\n",
    "ax.set_xlabel('registration year', labelpad=20)\n",
    "ax.tick_params(axis='both', which='both', length=5, width=1, direction='out', labelsize=14)\n",
    "ax.set_xlim(left=980, right=1920)\n",
    "#ax.set_ylim(bottom=0, top=45)\n",
    "ax.xaxis.set_major_locator(ticker.MultipleLocator(100))\n",
    "#ax.xaxis.set_minor_locator(ticker.MultipleLocator(25000))\n",
    "ax.yaxis.set_major_locator(ticker.MultipleLocator(0.5))\n",
    "ax.grid(which='major', linestyle='-')\n",
    "ax.grid(which='minor', linestyle='-')\n",
    "\n",
    "txt=\"Figure 8. Histogram of the registration year for the interval 1000-1900.\"\n",
    "plt.figtext(0.5, -0.1, txt, wrap=True, horizontalalignment='center', fontsize=14)\n",
    "plt.show()"
   ]
  },
  {
   "cell_type": "code",
   "execution_count": null,
   "metadata": {},
   "outputs": [],
   "source": [
    "year_lower_values['registration_year'].shape"
   ]
  },
  {
   "cell_type": "markdown",
   "metadata": {},
   "source": [
    "For the years 1000 to 1900 there are only 5 entries."
   ]
  },
  {
   "cell_type": "code",
   "execution_count": null,
   "metadata": {},
   "outputs": [],
   "source": [
    "year_higher_values = autos[autos['registration_year'].between(2019,9999)]"
   ]
  },
  {
   "cell_type": "code",
   "execution_count": null,
   "metadata": {},
   "outputs": [],
   "source": [
    "fig, ax = plt.subplots(figsize=(12,6))\n",
    "\n",
    "ax.hist(year_higher_values['registration_year'], bins=100)\n",
    "ax.set_xlabel('registration year', labelpad=20)\n",
    "ax.tick_params(axis='both', which='both', length=5, width=1, direction='out', labelsize=14)\n",
    "ax.set_xlim(left=1900, right=10100)\n",
    "#ax.set_ylim(bottom=0, top=45)\n",
    "ax.xaxis.set_major_locator(ticker.MultipleLocator(1000))\n",
    "#ax.xaxis.set_minor_locator(ticker.MultipleLocator(25000))\n",
    "ax.yaxis.set_major_locator(ticker.MultipleLocator(1.0))\n",
    "ax.grid(which='major', linestyle='-')\n",
    "ax.grid(which='minor', linestyle='-')\n",
    "\n",
    "txt=\"Figure 9. Histogram of the registration year for the interval 2019-9999.\"\n",
    "plt.figtext(0.5, -0.1, txt, wrap=True, horizontalalignment='center', fontsize=14)\n",
    "plt.show()"
   ]
  },
  {
   "cell_type": "code",
   "execution_count": null,
   "metadata": {},
   "outputs": [],
   "source": [
    "year_higher_values['registration_year'].shape"
   ]
  },
  {
   "cell_type": "markdown",
   "metadata": {},
   "source": [
    "For the years 2019 to 9999 there are only 17 entries."
   ]
  },
  {
   "cell_type": "code",
   "execution_count": null,
   "metadata": {},
   "outputs": [],
   "source": [
    "print(\"The percentage each time interval contributes to the dataset is given below:\\n\")\n",
    "print(f\"   >>> from 1900 to 2016: {((autos['registration_year'].between(1900,2016)).sum()/autos.shape[0])*100:6.2f} %\")\n",
    "print(f\"   >>> other entries: {((~autos['registration_year'].between(1900,2016)).sum()/autos.shape[0])*100:10.2f} %\")"
   ]
  },
  {
   "cell_type": "markdown",
   "metadata": {},
   "source": [
    "From the results above we can observe that around 96% of all cars were registered between 1900 and 2016. The entries outside this interval correspond to less than 4% of the data and then can be removed."
   ]
  },
  {
   "cell_type": "code",
   "execution_count": null,
   "metadata": {},
   "outputs": [],
   "source": [
    "# update the dataframe\n",
    "autos = autos[autos['registration_year'].between(1900,2016)]"
   ]
  },
  {
   "cell_type": "markdown",
   "metadata": {},
   "source": [
    "We can take a brief analysis of the cleaned dataset and generate some basic statistics."
   ]
  },
  {
   "cell_type": "code",
   "execution_count": null,
   "metadata": {},
   "outputs": [],
   "source": [
    "autos.shape"
   ]
  },
  {
   "cell_type": "code",
   "execution_count": null,
   "metadata": {},
   "outputs": [],
   "source": [
    "autos.describe()"
   ]
  },
  {
   "cell_type": "code",
   "execution_count": null,
   "metadata": {},
   "outputs": [],
   "source": [
    "fig, ax = plt.subplots(figsize=(12,6))\n",
    "\n",
    "ax.hist(autos['registration_year'], bins=200, width=1)\n",
    "ax.set_xlabel('registration year', labelpad=20)\n",
    "ax.tick_params(axis='both', which='both', length=5, width=1, direction='out', labelsize=14)\n",
    "ax.set_xlim(left=1900, right=2020)\n",
    "ax.set_ylim(bottom=0, top=3500)\n",
    "ax.xaxis.set_major_locator(ticker.MultipleLocator(20))\n",
    "ax.xaxis.set_minor_locator(ticker.MultipleLocator(10))\n",
    "ax.yaxis.set_major_locator(ticker.MultipleLocator(1000))\n",
    "ax.yaxis.set_minor_locator(ticker.MultipleLocator(500))\n",
    "ax.grid(which='major', linestyle='-')\n",
    "ax.grid(which='minor', linestyle='-')\n",
    "\n",
    "txt=\"Figure 10. Histogram of the registration year for the interval 1900-2016.\"\n",
    "plt.figtext(0.5, -0.1, txt, wrap=True, horizontalalignment='center', fontsize=14)\n",
    "plt.show()"
   ]
  },
  {
   "cell_type": "markdown",
   "metadata": {},
   "source": [
    "After removing unrealistic data, we can see from **Figure 10** that most of the cars were registered in the past 20 years."
   ]
  },
  {
   "cell_type": "markdown",
   "metadata": {},
   "source": [
    "## Analysing price by brand"
   ]
  },
  {
   "cell_type": "code",
   "execution_count": null,
   "metadata": {},
   "outputs": [],
   "source": [
    "autos['brand'].describe()"
   ]
  },
  {
   "cell_type": "markdown",
   "metadata": {},
   "source": [
    "The dataset contains a total of 40 car brands, listed below."
   ]
  },
  {
   "cell_type": "code",
   "execution_count": null,
   "metadata": {},
   "outputs": [],
   "source": [
    "autos['brand'].unique()"
   ]
  },
  {
   "cell_type": "code",
   "execution_count": null,
   "metadata": {},
   "outputs": [],
   "source": [
    "brand_counts_norm = autos['brand'].value_counts(normalize=True)"
   ]
  },
  {
   "cell_type": "code",
   "execution_count": null,
   "metadata": {},
   "outputs": [],
   "source": [
    "fig = plt.figure(figsize=(16,12))\n",
    "ax = brand_counts_norm.plot.barh()\n",
    "ax.set_xlabel('car brands', fontsize=14, labelpad=20)\n",
    "ax.tick_params(axis='x', which='both', length=5, width=1, direction='out', labelsize=14, labelrotation=0)\n",
    "ax.tick_params(axis='y', which='both', length=5, width=1, direction='out', labelsize=14, labelrotation=0)\n",
    "ax.xaxis.set_major_locator(ticker.MultipleLocator(0.05))\n",
    "ax.xaxis.set_minor_locator(ticker.MultipleLocator(0.01))\n",
    "ax.grid(which='major', linestyle='-')\n",
    "ax.grid(which='minor', linestyle='-')\n",
    "txt=\"Figure 11. Normalized counts for car brands.\"\n",
    "plt.figtext(0.5, 0, txt, wrap=True, horizontalalignment='center', fontsize=14)\n",
    "plt.show()"
   ]
  },
  {
   "cell_type": "markdown",
   "metadata": {},
   "source": [
    "The first six places in this list are occupied by German makers and Volkswagen is on the top of the rank. Most of the brands have a small slice of the total. In our analysis, we can consider only brands present in more than 5% of the list."
   ]
  },
  {
   "cell_type": "code",
   "execution_count": null,
   "metadata": {},
   "outputs": [],
   "source": [
    "most_common_brands = brand_counts_norm[brand_counts_norm > 0.05]\n",
    "most_common_brands"
   ]
  },
  {
   "cell_type": "code",
   "execution_count": null,
   "metadata": {},
   "outputs": [],
   "source": [
    "most_common_brands_index = most_common_brands.index\n",
    "most_common_brands_index"
   ]
  },
  {
   "cell_type": "code",
   "execution_count": null,
   "metadata": {},
   "outputs": [],
   "source": [
    "fig = plt.figure(figsize=(12,6))\n",
    "ax = most_common_brands.plot.barh()\n",
    "ax.set_xlabel('six top car brands', fontsize=14, labelpad=20)\n",
    "ax.tick_params(axis='x', which='both', length=5, width=1, direction='out', labelsize=14, labelrotation=0)\n",
    "ax.tick_params(axis='y', which='both', length=5, width=1, direction='out', labelsize=14, labelrotation=0)\n",
    "ax.xaxis.set_major_locator(ticker.MultipleLocator(0.05))\n",
    "ax.xaxis.set_minor_locator(ticker.MultipleLocator(0.01))\n",
    "ax.grid(which='major', linestyle='-')\n",
    "ax.grid(which='minor', linestyle='-')\n",
    "txt=\"Figure 12. Normalized counts for the six top car brands.\"\n",
    "plt.figtext(0.5, -0.1, txt, wrap=True, horizontalalignment='center', fontsize=14)\n",
    "plt.show()"
   ]
  },
  {
   "cell_type": "code",
   "execution_count": null,
   "metadata": {},
   "outputs": [],
   "source": [
    "brand_price = {}      # stores the prices of the top six brands\n",
    "\n",
    "brands = autos['brand'].unique()\n",
    "\n",
    "for brand in most_common_brands_index:\n",
    "    selected_rows = autos[autos['brand'] == brand]\n",
    "    average_price = selected_rows['price'].mean()\n",
    "    brand_price[brand] = int(average_price)"
   ]
  },
  {
   "cell_type": "code",
   "execution_count": null,
   "metadata": {},
   "outputs": [],
   "source": [
    "brand_price"
   ]
  },
  {
   "cell_type": "code",
   "execution_count": null,
   "metadata": {},
   "outputs": [],
   "source": [
    "fig, ax = plt.subplots(figsize=(12,6))\n",
    "\n",
    "bar_heights = brand_price.values()\n",
    "bar_positions = brand_price.keys()\n",
    "ax.set_xlabel('average price', fontsize=14, labelpad=20)\n",
    "ax.bar(bar_positions, bar_heights, width=0.3)\n",
    "ax.tick_params(axis='x', which='both', length=5, width=1, direction='out', labelsize=14, labelrotation=45)\n",
    "ax.tick_params(axis='y', which='both', length=5, width=1, direction='out', labelsize=14, labelrotation=0)\n",
    "ax.set_ylim(bottom=0, top=9000)\n",
    "ax.yaxis.set_major_locator(ticker.MultipleLocator(3000))\n",
    "ax.yaxis.set_minor_locator(ticker.MultipleLocator(1000))\n",
    "ax.grid(which='major', linestyle='-')\n",
    "ax.grid(which='minor', linestyle='-')\n",
    "txt=\"Figure 13. Average price for the six top brands.\"\n",
    "plt.figtext(0.5, -0.35, txt, wrap=True, horizontalalignment='center', fontsize=14)\n",
    "plt.show()"
   ]
  },
  {
   "cell_type": "markdown",
   "metadata": {},
   "source": [
    "* The most expensive brands are  Audi, Mercedes Benz, and BMW. \n",
    "* Ford and Open are the less expensive ones.\n",
    "* Volkswagen is in between."
   ]
  },
  {
   "cell_type": "markdown",
   "metadata": {},
   "source": [
    "## Mileage $\\times$ price\n",
    "\n",
    "We can also investigate how mileage influences the price for the six top brands. For this, we can combine both features in a new dataframe using _pandas series constructor_ and _pandas dataframe constructor_."
   ]
  },
  {
   "cell_type": "code",
   "execution_count": null,
   "metadata": {},
   "outputs": [],
   "source": [
    "brand_price_series = pd.Series(brand_price)"
   ]
  },
  {
   "cell_type": "code",
   "execution_count": null,
   "metadata": {},
   "outputs": [],
   "source": [
    "brand_price_series"
   ]
  },
  {
   "cell_type": "code",
   "execution_count": null,
   "metadata": {},
   "outputs": [],
   "source": [
    "pd.DataFrame(brand_price_series, columns=['average_price'])"
   ]
  },
  {
   "cell_type": "code",
   "execution_count": null,
   "metadata": {},
   "outputs": [],
   "source": [
    "brand_mileage = {}\n",
    "\n",
    "for brand in most_common_brands_index:\n",
    "    selected_rows = autos[autos['brand'] ==  brand]\n",
    "    average_mileage = selected_rows['odometer_km'].mean()\n",
    "    brand_mileage[brand] = int(average_mileage)\n",
    "    \n",
    "average_mileage = pd.Series(brand_mileage).sort_values(ascending=False)\n",
    "average_prices = pd.Series(brand_price).sort_values(ascending=False)"
   ]
  },
  {
   "cell_type": "code",
   "execution_count": null,
   "metadata": {},
   "outputs": [],
   "source": [
    "brand_data = pd.DataFrame(average_mileage, columns=['average_mileage'])\n",
    "brand_data"
   ]
  },
  {
   "cell_type": "code",
   "execution_count": null,
   "metadata": {},
   "outputs": [],
   "source": [
    "brand_data['average_price'] = average_prices\n",
    "brand_data"
   ]
  },
  {
   "cell_type": "markdown",
   "metadata": {},
   "source": [
    "The average mileage do not change as the prices for the top six brands. Stronger brands are more expensive even their cars present higher mileage."
   ]
  },
  {
   "cell_type": "code",
   "execution_count": null,
   "metadata": {},
   "outputs": [],
   "source": [
    "autos.head()"
   ]
  },
  {
   "cell_type": "markdown",
   "metadata": {},
   "source": [
    "## Translating German to English\n",
    "\n",
    "Since the dataset words are written in German, we can translate it into English, but before that, we must identify these words."
   ]
  },
  {
   "cell_type": "code",
   "execution_count": null,
   "metadata": {},
   "outputs": [],
   "source": [
    "autos['vehicle_type'].unique()"
   ]
  },
  {
   "cell_type": "code",
   "execution_count": null,
   "metadata": {},
   "outputs": [],
   "source": [
    "autos['gearbox'].unique()"
   ]
  },
  {
   "cell_type": "code",
   "execution_count": null,
   "metadata": {},
   "outputs": [],
   "source": [
    "autos['fuel_type'].unique()"
   ]
  },
  {
   "cell_type": "code",
   "execution_count": null,
   "metadata": {},
   "outputs": [],
   "source": [
    "autos['unrepaired_damage'].unique()"
   ]
  },
  {
   "cell_type": "markdown",
   "metadata": {},
   "source": [
    "The  entries in the features `vehicle_type`, `gearbox`, `fuel_type` and `unrepaired_damage` are in German, so we can translate then to English."
   ]
  },
  {
   "cell_type": "code",
   "execution_count": null,
   "metadata": {},
   "outputs": [],
   "source": [
    "autos['vehicle_type'] = (autos['vehicle_type'].replace('kleinwagen','small car')\n",
    "                                              .replace('kombi','station wagon')\n",
    "                                              .replace('cabrio','convertible')\n",
    "                                              .replace('andere','other')\n",
    "                                              )"
   ]
  },
  {
   "cell_type": "code",
   "execution_count": null,
   "metadata": {},
   "outputs": [],
   "source": [
    "autos['gearbox'] = (autos['gearbox'].replace('manuell','manual')\n",
    "                                    .replace('automatik','automatic')\n",
    "                                    )"
   ]
  },
  {
   "cell_type": "code",
   "execution_count": null,
   "metadata": {},
   "outputs": [],
   "source": [
    "autos['fuel_type'] = (autos['fuel_type'].replace('benzin','gasolin')\n",
    "                                        .replace('elektro','electric')\n",
    "                                        .replace('andere','other')\n",
    "                                        )"
   ]
  },
  {
   "cell_type": "code",
   "execution_count": null,
   "metadata": {},
   "outputs": [],
   "source": [
    "autos['unrepaired_damage'] = (autos['unrepaired_damage'].replace('nein','no')\n",
    "                                                        .replace('ja','yes')\n",
    "                                                        )"
   ]
  },
  {
   "cell_type": "code",
   "execution_count": null,
   "metadata": {},
   "outputs": [],
   "source": [
    "autos.head()"
   ]
  },
  {
   "cell_type": "markdown",
   "metadata": {},
   "source": [
    "## Simplifying date format\n",
    "\n",
    "We can also convert the dates in `date_crawled`, `ad_created` and `last_seen` to the integer format `20160321`."
   ]
  },
  {
   "cell_type": "code",
   "execution_count": null,
   "metadata": {},
   "outputs": [],
   "source": [
    "autos['date_crawled'] = autos['date_crawled'].str[:10].str.replace(\"-\",\"\").astype(int)"
   ]
  },
  {
   "cell_type": "code",
   "execution_count": null,
   "metadata": {},
   "outputs": [],
   "source": [
    "autos['ad_created'] = autos['ad_created'].str[:10].str.replace(\"-\",\"\").astype(int)"
   ]
  },
  {
   "cell_type": "code",
   "execution_count": null,
   "metadata": {},
   "outputs": [],
   "source": [
    "autos['last_seen'] = autos['last_seen'].str[:10].str.replace(\"-\",\"\").astype(int)"
   ]
  },
  {
   "cell_type": "code",
   "execution_count": null,
   "metadata": {},
   "outputs": [],
   "source": [
    "autos.head(3)"
   ]
  },
  {
   "cell_type": "markdown",
   "metadata": {},
   "source": [
    "## Relationship between damage and vehicle price"
   ]
  },
  {
   "cell_type": "code",
   "execution_count": null,
   "metadata": {},
   "outputs": [],
   "source": [
    "autos.loc[:,['price','unrepaired_damage']].head()"
   ]
  },
  {
   "cell_type": "code",
   "execution_count": null,
   "metadata": {},
   "outputs": [],
   "source": [
    "# separate 'yes' from 'no' classes\n",
    "autos_damaged = autos[autos['unrepaired_damage']=='yes']\n",
    "autos_undamaged = autos[autos['unrepaired_damage']=='no']\n",
    "\n",
    "fig = plt.figure(figsize=(18,6))\n",
    "\n",
    "ax1 = fig.add_subplot(1,2,1)\n",
    "ax2 = fig.add_subplot(1,2,2)\n",
    "\n",
    "ax1.hist(autos_undamaged[\"price\"], bins=100)\n",
    "ax2.hist(autos_damaged[\"price\"], bins=100)\n",
    "\n",
    "\n",
    "ax1.set_xlabel('unrepaired car prices', labelpad=20)\n",
    "ax1.tick_params(axis='both', which='both', length=5, width=1, direction='out', labelsize=14)\n",
    "ax1.set_xlim(left=0, right=50000)\n",
    "ax1.set_ylim(bottom=0, top=16000)\n",
    "#ax1.set_xlim(left=50000, right=360000)\n",
    "#ax1.set_ylim(bottom=0, top=40)\n",
    "ax1.xaxis.set_major_locator(ticker.MultipleLocator(10000))\n",
    "ax1.xaxis.set_minor_locator(ticker.MultipleLocator(5000))\n",
    "ax1.yaxis.set_major_locator(ticker.MultipleLocator(4000))\n",
    "ax1.yaxis.set_minor_locator(ticker.MultipleLocator(2000))\n",
    "ax1.grid(which='major', linestyle='-')\n",
    "ax1.grid(which='minor', linestyle='-')\n",
    "\n",
    "ax2.set_xlabel('repaired car prices', labelpad=20)\n",
    "ax2.tick_params(axis='both', which='both', length=5, width=1, direction='out', labelsize=14)\n",
    "ax2.set_xlim(left=0, right=15000)\n",
    "ax2.set_ylim(bottom=0, top=1200)\n",
    "#ax2.set_xlim(left=15000, right=45000)\n",
    "#ax2.set_ylim(bottom=0, top=10)\n",
    "ax2.xaxis.set_major_locator(ticker.MultipleLocator(5000))\n",
    "ax2.xaxis.set_minor_locator(ticker.MultipleLocator(1000))\n",
    "ax2.yaxis.set_major_locator(ticker.MultipleLocator(400))\n",
    "ax2.yaxis.set_minor_locator(ticker.MultipleLocator(200))\n",
    "ax2.grid(which='major', linestyle='-')\n",
    "ax2.grid(which='minor', linestyle='-')\n",
    "\n",
    "txt='''Figure 14. Unrepaired cars(left) and repaired cars(right) versus the vehicle prices. Histogram values for prices above 50k\n",
    "are not showed for unrepaired cars since they are smaller than 40. Histogram values for prices above 15k \n",
    "are not showed for repaired cars since they are smaller than 10.''' \n",
    "plt.figtext(0.5, -0.2, txt, wrap=True, horizontalalignment='center', fontsize=14)\n",
    "plt.show()"
   ]
  },
  {
   "cell_type": "markdown",
   "metadata": {},
   "source": [
    "The dataset contains much more unrepaired vehicles than repaired ones, and how we would expect, cars without damage are more expensive."
   ]
  }
 ],
 "metadata": {
  "kernelspec": {
   "display_name": "Python 3",
   "language": "python",
   "name": "python3"
  },
  "language_info": {
   "codemirror_mode": {
    "name": "ipython",
    "version": 3
   },
   "file_extension": ".py",
   "mimetype": "text/x-python",
   "name": "python",
   "nbconvert_exporter": "python",
   "pygments_lexer": "ipython3",
   "version": "3.7.5"
  }
 },
 "nbformat": 4,
 "nbformat_minor": 4
}
